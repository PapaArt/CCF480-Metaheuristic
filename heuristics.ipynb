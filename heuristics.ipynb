{
 "cells": [
  {
   "attachments": {},
   "cell_type": "markdown",
   "metadata": {},
   "source": [
    "### Include the important libraries"
   ]
  },
  {
   "cell_type": "code",
   "execution_count": 1,
   "metadata": {},
   "outputs": [],
   "source": [
    "import csv\n",
    "import math\n",
    "import random\n",
    "import seaborn\n",
    "import benchmark\n",
    "import numpy as np\n",
    "import pandas as pd"
   ]
  },
  {
   "attachments": {},
   "cell_type": "markdown",
   "metadata": {},
   "source": [
    "### Iterated Local Search (ILS)"
   ]
  },
  {
   "attachments": {},
   "cell_type": "markdown",
   "metadata": {},
   "source": [
    "#### Generate a initial solution"
   ]
  },
  {
   "cell_type": "code",
   "execution_count": 2,
   "metadata": {},
   "outputs": [],
   "source": [
    "def initial_solution(lower_bound, upper_bound):\n",
    "    return np.random.uniform(lower_bound, upper_bound, size=2)    "
   ]
  },
  {
   "attachments": {},
   "cell_type": "markdown",
   "metadata": {},
   "source": [
    "#### Calculate cost function"
   ]
  },
  {
   "cell_type": "code",
   "execution_count": 3,
   "metadata": {},
   "outputs": [],
   "source": [
    "def calculate_cost(solution, num_func):\n",
    "    # Fazer uma função de calculo de custo puxando a get_func_details dela\n",
    "    x = solution[0]\n",
    "    y = solution[1]\n",
    "    if num_func == 0 or num_func == 1:\n",
    "        cost = benchmark.func1_op(x, y)\n",
    "    elif num_func == 2 or num_func == 3:\n",
    "        cost = benchmark.func2_op(x, y)\n",
    "        \n",
    "    return cost"
   ]
  },
  {
   "attachments": {},
   "cell_type": "markdown",
   "metadata": {},
   "source": [
    "#### Local search function was made based on swap"
   ]
  },
  {
   "cell_type": "code",
   "execution_count": 4,
   "metadata": {},
   "outputs": [],
   "source": [
    "def local_search(solution, num_func):\n",
    "    best_solution = solution.copy()  # Crie uma cópia da solução atual como a melhor solução\n",
    "    best_cost = calculate_cost(solution, num_func)  # Calcule o custo da melhor solução\n",
    "    \n",
    "    improved = True\n",
    "    while improved:\n",
    "        improved = False\n",
    "\n",
    "        for i in range(len(solution)):\n",
    "            for j in range(i + 1, len(solution)):\n",
    "                # Troque os elementos i e j na solução\n",
    "                new_solution = solution.copy()\n",
    "                new_solution[i], new_solution[j] = new_solution[j], new_solution[i]\n",
    "\n",
    "                # Calcule o custo da nova solução\n",
    "                new_cost = calculate_cost(new_solution, num_func)\n",
    "\n",
    "                # Se a nova solução for melhor, atualize a melhor solução\n",
    "                if new_cost < best_cost:\n",
    "                    best_solution = new_solution\n",
    "                    best_cost = new_cost\n",
    "                    improved = True\n",
    "\n",
    "        # Atualize a solução atual para a melhor solução encontrada nesta iteração\n",
    "        solution = best_solution\n",
    "\n",
    "    return [best_cost, best_solution]"
   ]
  },
  {
   "attachments": {},
   "cell_type": "markdown",
   "metadata": {},
   "source": [
    "#### Perturbation function"
   ]
  },
  {
   "cell_type": "code",
   "execution_count": 5,
   "metadata": {},
   "outputs": [],
   "source": [
    "def perturbation(solution, lower_bound, upper_bound):\n",
    "    perturbed_solution = solution.copy()\n",
    "    \n",
    "    # Aplica a perturbação em cada variável\n",
    "    for i in range(len(solution)):\n",
    "        perturbed_solution[i] += random.uniform(lower_bound, upper_bound)\n",
    "    \n",
    "    return perturbed_solution"
   ]
  },
  {
   "attachments": {},
   "cell_type": "markdown",
   "metadata": {},
   "source": [
    "#### Iterated Local Search algorithm"
   ]
  },
  {
   "cell_type": "code",
   "execution_count": 6,
   "metadata": {},
   "outputs": [],
   "source": [
    "def ILS(num_iter, lb, ub, num_func):\n",
    "    initial_best = initial_solution(lb, ub)\n",
    "    best_cost, best_solution = local_search(initial_best, num_func)\n",
    "    i = 0\n",
    "    while (i < num_iter):\n",
    "        perturbed = perturbation(best_solution, lb, ub)\n",
    "        local_cost, local_solution = local_search(perturbed, num_func)\n",
    "        if local_cost < best_cost:\n",
    "            best_cost, best_solution = local_cost, local_solution\n",
    "        i+=1\n",
    "    return best_cost"
   ]
  },
  {
   "attachments": {},
   "cell_type": "markdown",
   "metadata": {},
   "source": [
    "### Hill Climbing"
   ]
  },
  {
   "cell_type": "code",
   "execution_count": 12,
   "metadata": {},
   "outputs": [],
   "source": [
    "def hillclimbing(objf, bounds, num_iter, step_size):\n",
    "    solution = bounds[:, 0] + np.random.rand(len(bounds)) * (bounds[:, 1] - bounds[:, 0])\n",
    "    solution_eval = objf(solution[0], solution[1])\n",
    "\n",
    "    for i in range(num_iter):\n",
    "        candidate = solution + np.random.rand(len(bounds)) * step_size\n",
    "        candidate_eval = objf(candidate[0], candidate[1])\n",
    "\n",
    "        if candidate_eval <= solution_eval:\n",
    "            solution, solution_eval = candidate, candidate_eval\n",
    "        #print(\">%d f(%s) = %.5f\" %(i, solution, solution_eval))\n",
    "    \n",
    "    return solution_eval"
   ]
  },
  {
   "attachments": {},
   "cell_type": "markdown",
   "metadata": {},
   "source": [
    "### Creation of a CSV file to get the function results"
   ]
  },
  {
   "cell_type": "code",
   "execution_count": 30,
   "metadata": {},
   "outputs": [],
   "source": [
    "data_bench = \"./data/f2_2.csv\"\n",
    "f_min_ils = math.inf\n",
    "f_min_hc = math.inf\n",
    "bench_value_ils = []\n",
    "bench_value_hc = []\n",
    "fields = ['Algoritmo', 'Mínimo', 'Máximo', 'Média', 'Desvio-padrão']"
   ]
  },
  {
   "attachments": {},
   "cell_type": "markdown",
   "metadata": {},
   "source": [
    "### Main code"
   ]
  },
  {
   "cell_type": "code",
   "execution_count": 31,
   "metadata": {},
   "outputs": [],
   "source": [
    "# Number of iterations\n",
    "num_iter = 100\n",
    "# function number:\n",
    "# 0 = func1_op -5 < x,y < 5\n",
    "# 1 = func1_op -2 < x,y < 2\n",
    "# 2 = func2_op -512 < x,y < 512\n",
    "# 3 = func2_op 400 < x,y < 512\n",
    "num_func = 3\n",
    "\n",
    "fobj, lower_bound, upper_bound = benchmark.get_func(3)\n",
    "\n",
    "bounds = np.asarray([[lower_bound, upper_bound], [lower_bound, upper_bound]])\n",
    "\n",
    "step_size = 0.05\n",
    "\n",
    "with open(data_bench, 'w') as csvfile:\n",
    "    writer = csv.DictWriter(csvfile, fieldnames=fields)\n",
    "    writer.writeheader()\n",
    "    for i in range(30):\n",
    "        # ILS algorithm\n",
    "        bench_value_ils.append(ILS(num_iter, lower_bound, upper_bound, num_func))\n",
    "        # Hillclimbing algorithm\n",
    "        bench_value_hc.append(hillclimbing(getattr(benchmark, 'func2_op'), bounds, num_iter, step_size))\n",
    "    bench_dict_ils = [{'Algoritmo': 'ILS', 'Mínimo':np.min(bench_value_ils), 'Máximo':np.max(bench_value_ils),'Média':np.mean(bench_value_ils), 'Desvio-padrão':np.std(bench_value_ils)}]\n",
    "    bench_dict_hc = [{'Algoritmo': 'Hill Climbing', 'Mínimo':np.min(bench_value_hc), 'Máximo':np.max(bench_value_hc),'Média':np.mean(bench_value_hc), 'Desvio-padrão':np.std(bench_value_hc)}]\n",
    "    writer.writerows(bench_dict_ils)\n",
    "    writer.writerows(bench_dict_hc)\n",
    "    csvfile.close()"
   ]
  },
  {
   "cell_type": "code",
   "execution_count": null,
   "metadata": {},
   "outputs": [],
   "source": []
  }
 ],
 "metadata": {
  "kernelspec": {
   "display_name": "base",
   "language": "python",
   "name": "python3"
  },
  "language_info": {
   "codemirror_mode": {
    "name": "ipython",
    "version": 3
   },
   "file_extension": ".py",
   "mimetype": "text/x-python",
   "name": "python",
   "nbconvert_exporter": "python",
   "pygments_lexer": "ipython3",
   "version": "3.9.16"
  },
  "orig_nbformat": 4
 },
 "nbformat": 4,
 "nbformat_minor": 2
}
